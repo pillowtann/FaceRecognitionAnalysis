{
 "cells": [
  {
   "cell_type": "code",
   "execution_count": 28,
   "metadata": {},
   "outputs": [],
   "source": [
    "import cv2\n",
    "import os\n",
    "\n",
    "def crop_img(img, scale=1.0):\n",
    "    center_x, center_y = img.shape[1] / 2, img.shape[0] / 2\n",
    "    width_scaled, height_scaled = img.shape[1] * scale, img.shape[0] * scale\n",
    "    left_x, right_x = center_x - width_scaled / 2, center_x + width_scaled / 2\n",
    "    top_y, bottom_y = center_y - height_scaled / 2, center_y + height_scaled / 2\n",
    "    img_cropped = img[int(top_y):int(bottom_y), int(left_x):int(right_x)]\n",
    "    return img_cropped\n",
    "\n",
    "def load_resize_gray_save_image(in_path, out_path, crop_perc=0.5, width=32, height=32, grayscale=True):\n",
    "    # load image\n",
    "    img = cv2.imread(in_path, cv2.IMREAD_UNCHANGED)\n",
    "    \n",
    "    # crop closer\n",
    "    img = crop_img(img, crop_perc)\n",
    "\n",
    "    # resize\n",
    "    dim = (width, height)\n",
    "    img_resized = cv2.resize(img, dim, interpolation = cv2.INTER_AREA)\n",
    "    \n",
    "    # recolour\n",
    "    img_gray = cv2.cvtColor(img_resized, cv2.COLOR_BGR2GRAY)\n",
    "    \n",
    "    # show results\n",
    "    print('Original Dimensions : ', img.shape)\n",
    "    print('Resized Dimensions : ', img_gray.shape)\n",
    "#     cv2.imshow('Original image', img)\n",
    "#     cv2.imshow('Gray image', img_gray)\n",
    "    \n",
    "    # save and close\n",
    "    cv2.imwrite(out_path, img_gray) \n",
    "    cv2.waitKey(0)\n",
    "    cv2.destroyAllWindows()\n",
    "    \n",
    "    # no output\n"
   ]
  },
  {
   "cell_type": "code",
   "execution_count": 29,
   "metadata": {},
   "outputs": [
    {
     "name": "stdout",
     "output_type": "stream",
     "text": [
      "Original Dimensions :  (360, 360, 3)\n",
      "Resized Dimensions :  (32, 32)\n",
      "Original Dimensions :  (360, 360, 3)\n",
      "Resized Dimensions :  (32, 32)\n",
      "Original Dimensions :  (359, 360, 3)\n",
      "Resized Dimensions :  (32, 32)\n",
      "Original Dimensions :  (360, 359, 3)\n",
      "Resized Dimensions :  (32, 32)\n",
      "Original Dimensions :  (359, 360, 3)\n",
      "Resized Dimensions :  (32, 32)\n",
      "Original Dimensions :  (359, 360, 3)\n",
      "Resized Dimensions :  (32, 32)\n",
      "Original Dimensions :  (359, 360, 3)\n",
      "Resized Dimensions :  (32, 32)\n",
      "Original Dimensions :  (360, 360, 3)\n",
      "Resized Dimensions :  (32, 32)\n",
      "Original Dimensions :  (359, 360, 3)\n",
      "Resized Dimensions :  (32, 32)\n",
      "Original Dimensions :  (359, 360, 3)\n",
      "Resized Dimensions :  (32, 32)\n"
     ]
    }
   ],
   "source": [
    "path = os.path.abspath('')\n",
    "\n",
    "for i in range(1,11):\n",
    "    \n",
    "    in_path = os.path.join(path,'selfies\\\\cropped', str(i)+'.jpg')\n",
    "    out_path = os.path.join(path,'selfies\\\\formatted', str(i)+'.jpg')\n",
    "\n",
    "    load_resize_gray_save_image(in_path, out_path)"
   ]
  },
  {
   "cell_type": "code",
   "execution_count": null,
   "metadata": {},
   "outputs": [],
   "source": []
  }
 ],
 "metadata": {
  "kernelspec": {
   "display_name": "Python 3",
   "language": "python",
   "name": "python3"
  },
  "language_info": {
   "codemirror_mode": {
    "name": "ipython",
    "version": 3
   },
   "file_extension": ".py",
   "mimetype": "text/x-python",
   "name": "python",
   "nbconvert_exporter": "python",
   "pygments_lexer": "ipython3",
   "version": "3.6.12"
  }
 },
 "nbformat": 4,
 "nbformat_minor": 4
}
