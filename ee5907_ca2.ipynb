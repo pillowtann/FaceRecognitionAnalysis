{
 "cells": [
  {
   "cell_type": "markdown",
   "metadata": {},
   "source": [
    "### Table of Contents"
   ]
  },
  {
   "cell_type": "markdown",
   "metadata": {},
   "source": [
    "### 00. Load Data\n",
    "Choose 25 images by yourself and indicate below:"
   ]
  },
  {
   "cell_type": "code",
   "execution_count": 1,
   "metadata": {},
   "outputs": [],
   "source": [
    "import random"
   ]
  },
  {
   "cell_type": "code",
   "execution_count": 2,
   "metadata": {},
   "outputs": [],
   "source": [
    "def get_random_list(num_items, start, end, set_seed=123):\n",
    "    random.seed(set_seed)\n",
    "    selected_idx = [i for i in range(start,end)]\n",
    "    random.shuffle(selected_idx)\n",
    "    return sorted(selected_idx[0:num_items])"
   ]
  },
  {
   "cell_type": "code",
   "execution_count": 3,
   "metadata": {},
   "outputs": [
    {
     "name": "stdout",
     "output_type": "stream",
     "text": [
      "Selected subjects: [2, 8, 13, 14, 15, 17, 19, 20, 23, 24, 27, 31, 32, 33, 34, 40, 42, 44, 46, 48, 50, 52, 59, 63, 65]\n"
     ]
    }
   ],
   "source": [
    "selected_idx = get_random_list(num_items=25, start=1, end=68, set_seed=123)\n",
    "print('Selected subjects:', selected_idx)"
   ]
  },
  {
   "cell_type": "code",
   "execution_count": 4,
   "metadata": {},
   "outputs": [
    {
     "name": "stdout",
     "output_type": "stream",
     "text": [
      "Number of selected images: 4260\n"
     ]
    }
   ],
   "source": [
    "num_img_per_subj = 170\n",
    "num_selfies = 10\n",
    "list_of_img_end_paths = []\n",
    "\n",
    "for subj_idx in selected_idx:\n",
    "    temp_list = ['PIE//'+str(subj_idx)+'//'+str(i+1)+'.jpg' for i in range(0,num_img_per_subj)]\n",
    "    list_of_img_end_paths.extend(temp_list)\n",
    "\n",
    "selfies_list = ['selfies//formatted//'+str(i+1)+'.jpg' for i in range(0,num_selfies)]\n",
    "list_of_img_end_paths.extend(selfies_list)\n",
    "    \n",
    "print('Number of selected images:', len(list_of_img_end_paths))"
   ]
  },
  {
   "cell_type": "markdown",
   "metadata": {},
   "source": [
    "### 01. Principal Component Analysis (PCA)"
   ]
  },
  {
   "cell_type": "code",
   "execution_count": 8,
   "metadata": {},
   "outputs": [],
   "source": [
    "import numpy as np\n",
    "import cv2\n",
    "import os"
   ]
  },
  {
   "cell_type": "code",
   "execution_count": 9,
   "metadata": {},
   "outputs": [],
   "source": [
    "# Randomly sample 500 images from the CMU PIE training set and your own photos\n",
    "random_idx = get_random_list(num_items=500, start=0, end=len(list_of_img_end_paths), set_seed=123)\n",
    "random_500_img_end_paths = [list_of_img_end_paths[i] for i in random_idx]"
   ]
  },
  {
   "cell_type": "code",
   "execution_count": 30,
   "metadata": {},
   "outputs": [
    {
     "name": "stdout",
     "output_type": "stream",
     "text": [
      "Vectorised and loaded data: (500, 1024)\n"
     ]
    }
   ],
   "source": [
    "# read image\n",
    "path = os.path.abspath('')\n",
    "\n",
    "for counter, end_paths in enumerate(random_500_img_end_paths):\n",
    "    # load image\n",
    "    img = cv2.imread(os.path.join(path, end_paths))\n",
    "    \n",
    "    # vectorise image\n",
    "    array_size = img.shape[0]*img.shape[1]\n",
    "    vectorised_img = img.copy()\n",
    "    vectorised_img = vectorised_img.reshape(array_size,3)\n",
    "    vectorised_img = np.array([i[0] for i in vectorised_img], dtype=int)\n",
    "    \n",
    "    # add to dataset\n",
    "    if counter == 0:\n",
    "        data = vectorised_img.reshape(1,array_size).copy()\n",
    "    else:\n",
    "        data = np.concatenate((data, vectorised_img.reshape(1,array_size)), axis=0)\n",
    "    \n",
    "print('Vectorised and loaded data:', data.shape)"
   ]
  },
  {
   "cell_type": "code",
   "execution_count": 32,
   "metadata": {},
   "outputs": [
    {
     "name": "stdout",
     "output_type": "stream",
     "text": [
      "[0.41883119 0.26807402]\n",
      "[23964.306498   19172.23390612]\n"
     ]
    }
   ],
   "source": [
    "from sklearn.decomposition import PCA\n",
    "\n",
    "pca = PCA(n_components=2)\n",
    "pca.fit(data)\n",
    "\n",
    "print(pca.explained_variance_ratio_)\n",
    "print(pca.singular_values_)"
   ]
  },
  {
   "cell_type": "code",
   "execution_count": 33,
   "metadata": {},
   "outputs": [
    {
     "name": "stdout",
     "output_type": "stream",
     "text": [
      "[0.36458246 0.26052398]\n",
      "[19325.41883314 16336.34456095]\n"
     ]
    }
   ],
   "source": [
    "pca = PCA(n_components=2)\n",
    "pca.fit(data.T)\n",
    "\n",
    "print(pca.explained_variance_ratio_)\n",
    "print(pca.singular_values_)"
   ]
  },
  {
   "cell_type": "code",
   "execution_count": 57,
   "metadata": {},
   "outputs": [],
   "source": [
    "### Vectorise images [Workings] ###"
   ]
  },
  {
   "cell_type": "code",
   "execution_count": 84,
   "metadata": {},
   "outputs": [
    {
     "name": "stdout",
     "output_type": "stream",
     "text": [
      "Wall time: 18.9 ms\n"
     ]
    }
   ],
   "source": [
    "%%time\n",
    "vectorised_img2 = np.empty(0, dtype=int)\n",
    "for row in np.arange(img.shape[0]):\n",
    "    for col in np.arange(img.shape[1]):\n",
    "        vectorised_img2 = np.append(vectorised_img2, img[row, col][0])"
   ]
  },
  {
   "cell_type": "code",
   "execution_count": 89,
   "metadata": {},
   "outputs": [
    {
     "name": "stdout",
     "output_type": "stream",
     "text": [
      "Wall time: 0 ns\n"
     ]
    }
   ],
   "source": [
    "%%time\n",
    "vectorised_img = img.copy()\n",
    "vectorised_img = vectorised_img.reshape(img.shape[0]*img.shape[1],3)\n",
    "vectorised_img = np.array([i[0] for i in vectorised_img], dtype=int)"
   ]
  },
  {
   "cell_type": "code",
   "execution_count": 93,
   "metadata": {},
   "outputs": [
    {
     "name": "stdout",
     "output_type": "stream",
     "text": [
      "True\n"
     ]
    }
   ],
   "source": [
    "if list(vectorised_img2) == list(vectorised_img):\n",
    "    print(True)"
   ]
  },
  {
   "cell_type": "code",
   "execution_count": 113,
   "metadata": {},
   "outputs": [
    {
     "data": {
      "text/plain": [
       "array([[ 32,  39,  44, ..., 249, 255, 254],\n",
       "       [ 32,  39,  44, ..., 249, 255, 254],\n",
       "       [ 32,  39,  44, ..., 249, 255, 254]])"
      ]
     },
     "execution_count": 113,
     "metadata": {},
     "output_type": "execute_result"
    }
   ],
   "source": [
    "#data = np.empty(0, dtype=int)\n",
    "data = np.concatenate((vectorised_img.reshape(1,1024), vectorised_img.reshape(1,1024)), axis=0)\n",
    "data = np.concatenate((data, vectorised_img.reshape(1,1024)), axis=0)\n",
    "data"
   ]
  },
  {
   "cell_type": "code",
   "execution_count": 36,
   "metadata": {},
   "outputs": [
    {
     "data": {
      "text/plain": [
       "array([[135, 147, 147, ...,  40,  48,  54],\n",
       "       [ 16,  44,  68, ...,  40,  54,  69],\n",
       "       [110, 119, 109, ...,   6,   5,   5],\n",
       "       ...,\n",
       "       [ 55,  51,  57, ...,   7,   8,   8],\n",
       "       [ 45,  48,  54, ...,  97,  96,  92],\n",
       "       [199, 195, 191, ...,   5,   6,   3]])"
      ]
     },
     "execution_count": 36,
     "metadata": {},
     "output_type": "execute_result"
    }
   ],
   "source": [
    "data"
   ]
  },
  {
   "cell_type": "code",
   "execution_count": null,
   "metadata": {},
   "outputs": [],
   "source": []
  }
 ],
 "metadata": {
  "kernelspec": {
   "display_name": "Python 3",
   "language": "python",
   "name": "python3"
  },
  "language_info": {
   "codemirror_mode": {
    "name": "ipython",
    "version": 3
   },
   "file_extension": ".py",
   "mimetype": "text/x-python",
   "name": "python",
   "nbconvert_exporter": "python",
   "pygments_lexer": "ipython3",
   "version": "3.6.12"
  }
 },
 "nbformat": 4,
 "nbformat_minor": 4
}
